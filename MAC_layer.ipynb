{
 "cells": [
  {
   "cell_type": "code",
   "execution_count": null,
   "id": "a6de04cb",
   "metadata": {},
   "outputs": [],
   "source": [
    "#######################\n",
    "# Project 4\n",
    "# ESE 572\n",
    "# Sublayer of Layer 2\n",
    "# Medium Access Control (MAC) Layer\n",
    "#######################\n",
    "\n",
    "import numpy as np\n",
    "\n",
    "#######################\n",
    "# Slotted Aloha Network Assumptions\n",
    "#######################\n",
    "#  1. Each packet requires one time-unit or slot for transmission.\n",
    "#  2. There are m nodes each generating packets according to a Poisson process with rate lambda/m.\n",
    "#  3. Over the defined medium, there are only two possibilities: collision or perfect reception.\n",
    "#  4. There is a mechanism for immediate feedback. Immediately after any time slot, every node learns the \n",
    "#     results of the previous time slot: (0,1,e) where 0 implies no packet was transmitted, 1 implies one \n",
    "#     packet was transmitted, and e implies there was a collision.\n",
    "#  5. Each packet involved in a collision will be retransmitted later until it is received correctly.\n",
    "#  6. A node with packets for retransmission is said to be back logged. One of the following two is true:\n",
    "#     a. If a packet is waiting for transmission or collided with another packet(s), all new arrivals are lost.\n",
    "#     b. There exists an infinite set of nodes and new arrivals arrive a new node each time."
   ]
  },
  {
   "cell_type": "code",
   "execution_count": null,
   "id": "1a335e8f",
   "metadata": {},
   "outputs": [],
   "source": [
    "#######################\n",
    "# Assignment Parameters\n",
    "#######################\n",
    "\n",
    "m = 5\n",
    "lambda_m = 0.2 # lambda/m\n",
    "\n",
    "# For assumption 6a, determine the steady state probability of each state:\n",
    "\n",
    "n = np.array([0, 1, 2, 3, 4, 5]) # n is the number of backlogged states\n",
    "qr = [0.2, 0.4] # compute for each retransmission probability in a loop"
   ]
  },
  {
   "cell_type": "code",
   "execution_count": null,
   "id": "31fc32d7",
   "metadata": {},
   "outputs": [],
   "source": []
  }
 ],
 "metadata": {
  "kernelspec": {
   "display_name": "Python 3",
   "language": "python",
   "name": "python3"
  },
  "language_info": {
   "codemirror_mode": {
    "name": "ipython",
    "version": 3
   },
   "file_extension": ".py",
   "mimetype": "text/x-python",
   "name": "python",
   "nbconvert_exporter": "python",
   "pygments_lexer": "ipython3",
   "version": "3.8.8"
  }
 },
 "nbformat": 4,
 "nbformat_minor": 5
}
